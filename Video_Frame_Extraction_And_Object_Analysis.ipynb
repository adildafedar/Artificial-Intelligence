{
  "nbformat": 4,
  "nbformat_minor": 0,
  "metadata": {
    "colab": {
      "provenance": [],
      "authorship_tag": "ABX9TyMN2lyzCj/RG2n2duO8hBsV",
      "include_colab_link": true
    },
    "kernelspec": {
      "name": "python3",
      "display_name": "Python 3"
    },
    "language_info": {
      "name": "python"
    }
  },
  "cells": [
    {
      "cell_type": "markdown",
      "metadata": {
        "id": "view-in-github",
        "colab_type": "text"
      },
      "source": [
        "<a href=\"https://colab.research.google.com/github/adildafedar/Artificial-Intelligence/blob/main/Video_Frame_Extraction_And_Object_Analysis.ipynb\" target=\"_parent\"><img src=\"https://colab.research.google.com/assets/colab-badge.svg\" alt=\"Open In Colab\"/></a>"
      ]
    },
    {
      "cell_type": "markdown",
      "source": [
        "Video Frame Extraction and Segmentation for Real-Time Object Analysis"
      ],
      "metadata": {
        "id": "kP_xGJBtMWeX"
      }
    },
    {
      "cell_type": "code",
      "source": [
        "# Install YOLOv8 and OpenCV\n",
        "!pip install ultralytics opencv-python"
      ],
      "metadata": {
        "id": "YKrqdaKUSNnq",
        "colab": {
          "base_uri": "https://localhost:8080/"
        },
        "outputId": "deb7a7ca-5026-4e7c-ee87-b29f969fcb64"
      },
      "execution_count": null,
      "outputs": [
        {
          "output_type": "stream",
          "name": "stdout",
          "text": [
            "Collecting ultralytics\n",
            "  Downloading ultralytics-8.3.207-py3-none-any.whl.metadata (37 kB)\n",
            "Requirement already satisfied: opencv-python in /usr/local/lib/python3.12/dist-packages (4.12.0.88)\n",
            "Requirement already satisfied: numpy>=1.23.0 in /usr/local/lib/python3.12/dist-packages (from ultralytics) (2.0.2)\n",
            "Requirement already satisfied: matplotlib>=3.3.0 in /usr/local/lib/python3.12/dist-packages (from ultralytics) (3.10.0)\n",
            "Requirement already satisfied: pillow>=7.1.2 in /usr/local/lib/python3.12/dist-packages (from ultralytics) (11.3.0)\n",
            "Requirement already satisfied: pyyaml>=5.3.1 in /usr/local/lib/python3.12/dist-packages (from ultralytics) (6.0.3)\n",
            "Requirement already satisfied: requests>=2.23.0 in /usr/local/lib/python3.12/dist-packages (from ultralytics) (2.32.4)\n",
            "Requirement already satisfied: scipy>=1.4.1 in /usr/local/lib/python3.12/dist-packages (from ultralytics) (1.16.2)\n",
            "Requirement already satisfied: torch>=1.8.0 in /usr/local/lib/python3.12/dist-packages (from ultralytics) (2.8.0+cu126)\n",
            "Requirement already satisfied: torchvision>=0.9.0 in /usr/local/lib/python3.12/dist-packages (from ultralytics) (0.23.0+cu126)\n",
            "Requirement already satisfied: psutil in /usr/local/lib/python3.12/dist-packages (from ultralytics) (5.9.5)\n",
            "Requirement already satisfied: polars in /usr/local/lib/python3.12/dist-packages (from ultralytics) (1.25.2)\n",
            "Collecting ultralytics-thop>=2.0.0 (from ultralytics)\n",
            "  Downloading ultralytics_thop-2.0.17-py3-none-any.whl.metadata (14 kB)\n",
            "Requirement already satisfied: contourpy>=1.0.1 in /usr/local/lib/python3.12/dist-packages (from matplotlib>=3.3.0->ultralytics) (1.3.3)\n",
            "Requirement already satisfied: cycler>=0.10 in /usr/local/lib/python3.12/dist-packages (from matplotlib>=3.3.0->ultralytics) (0.12.1)\n",
            "Requirement already satisfied: fonttools>=4.22.0 in /usr/local/lib/python3.12/dist-packages (from matplotlib>=3.3.0->ultralytics) (4.60.1)\n",
            "Requirement already satisfied: kiwisolver>=1.3.1 in /usr/local/lib/python3.12/dist-packages (from matplotlib>=3.3.0->ultralytics) (1.4.9)\n",
            "Requirement already satisfied: packaging>=20.0 in /usr/local/lib/python3.12/dist-packages (from matplotlib>=3.3.0->ultralytics) (25.0)\n",
            "Requirement already satisfied: pyparsing>=2.3.1 in /usr/local/lib/python3.12/dist-packages (from matplotlib>=3.3.0->ultralytics) (3.2.5)\n",
            "Requirement already satisfied: python-dateutil>=2.7 in /usr/local/lib/python3.12/dist-packages (from matplotlib>=3.3.0->ultralytics) (2.9.0.post0)\n",
            "Requirement already satisfied: charset_normalizer<4,>=2 in /usr/local/lib/python3.12/dist-packages (from requests>=2.23.0->ultralytics) (3.4.3)\n",
            "Requirement already satisfied: idna<4,>=2.5 in /usr/local/lib/python3.12/dist-packages (from requests>=2.23.0->ultralytics) (3.10)\n",
            "Requirement already satisfied: urllib3<3,>=1.21.1 in /usr/local/lib/python3.12/dist-packages (from requests>=2.23.0->ultralytics) (2.5.0)\n",
            "Requirement already satisfied: certifi>=2017.4.17 in /usr/local/lib/python3.12/dist-packages (from requests>=2.23.0->ultralytics) (2025.8.3)\n",
            "Requirement already satisfied: filelock in /usr/local/lib/python3.12/dist-packages (from torch>=1.8.0->ultralytics) (3.19.1)\n",
            "Requirement already satisfied: typing-extensions>=4.10.0 in /usr/local/lib/python3.12/dist-packages (from torch>=1.8.0->ultralytics) (4.15.0)\n",
            "Requirement already satisfied: setuptools in /usr/local/lib/python3.12/dist-packages (from torch>=1.8.0->ultralytics) (75.2.0)\n",
            "Requirement already satisfied: sympy>=1.13.3 in /usr/local/lib/python3.12/dist-packages (from torch>=1.8.0->ultralytics) (1.13.3)\n",
            "Requirement already satisfied: networkx in /usr/local/lib/python3.12/dist-packages (from torch>=1.8.0->ultralytics) (3.5)\n",
            "Requirement already satisfied: jinja2 in /usr/local/lib/python3.12/dist-packages (from torch>=1.8.0->ultralytics) (3.1.6)\n",
            "Requirement already satisfied: fsspec in /usr/local/lib/python3.12/dist-packages (from torch>=1.8.0->ultralytics) (2025.3.0)\n",
            "Requirement already satisfied: nvidia-cuda-nvrtc-cu12==12.6.77 in /usr/local/lib/python3.12/dist-packages (from torch>=1.8.0->ultralytics) (12.6.77)\n",
            "Requirement already satisfied: nvidia-cuda-runtime-cu12==12.6.77 in /usr/local/lib/python3.12/dist-packages (from torch>=1.8.0->ultralytics) (12.6.77)\n",
            "Requirement already satisfied: nvidia-cuda-cupti-cu12==12.6.80 in /usr/local/lib/python3.12/dist-packages (from torch>=1.8.0->ultralytics) (12.6.80)\n",
            "Requirement already satisfied: nvidia-cudnn-cu12==9.10.2.21 in /usr/local/lib/python3.12/dist-packages (from torch>=1.8.0->ultralytics) (9.10.2.21)\n",
            "Requirement already satisfied: nvidia-cublas-cu12==12.6.4.1 in /usr/local/lib/python3.12/dist-packages (from torch>=1.8.0->ultralytics) (12.6.4.1)\n",
            "Requirement already satisfied: nvidia-cufft-cu12==11.3.0.4 in /usr/local/lib/python3.12/dist-packages (from torch>=1.8.0->ultralytics) (11.3.0.4)\n",
            "Requirement already satisfied: nvidia-curand-cu12==10.3.7.77 in /usr/local/lib/python3.12/dist-packages (from torch>=1.8.0->ultralytics) (10.3.7.77)\n",
            "Requirement already satisfied: nvidia-cusolver-cu12==11.7.1.2 in /usr/local/lib/python3.12/dist-packages (from torch>=1.8.0->ultralytics) (11.7.1.2)\n",
            "Requirement already satisfied: nvidia-cusparse-cu12==12.5.4.2 in /usr/local/lib/python3.12/dist-packages (from torch>=1.8.0->ultralytics) (12.5.4.2)\n",
            "Requirement already satisfied: nvidia-cusparselt-cu12==0.7.1 in /usr/local/lib/python3.12/dist-packages (from torch>=1.8.0->ultralytics) (0.7.1)\n",
            "Requirement already satisfied: nvidia-nccl-cu12==2.27.3 in /usr/local/lib/python3.12/dist-packages (from torch>=1.8.0->ultralytics) (2.27.3)\n",
            "Requirement already satisfied: nvidia-nvtx-cu12==12.6.77 in /usr/local/lib/python3.12/dist-packages (from torch>=1.8.0->ultralytics) (12.6.77)\n",
            "Requirement already satisfied: nvidia-nvjitlink-cu12==12.6.85 in /usr/local/lib/python3.12/dist-packages (from torch>=1.8.0->ultralytics) (12.6.85)\n",
            "Requirement already satisfied: nvidia-cufile-cu12==1.11.1.6 in /usr/local/lib/python3.12/dist-packages (from torch>=1.8.0->ultralytics) (1.11.1.6)\n",
            "Requirement already satisfied: triton==3.4.0 in /usr/local/lib/python3.12/dist-packages (from torch>=1.8.0->ultralytics) (3.4.0)\n",
            "Requirement already satisfied: six>=1.5 in /usr/local/lib/python3.12/dist-packages (from python-dateutil>=2.7->matplotlib>=3.3.0->ultralytics) (1.17.0)\n",
            "Requirement already satisfied: mpmath<1.4,>=1.1.0 in /usr/local/lib/python3.12/dist-packages (from sympy>=1.13.3->torch>=1.8.0->ultralytics) (1.3.0)\n",
            "Requirement already satisfied: MarkupSafe>=2.0 in /usr/local/lib/python3.12/dist-packages (from jinja2->torch>=1.8.0->ultralytics) (3.0.3)\n",
            "Downloading ultralytics-8.3.207-py3-none-any.whl (1.1 MB)\n",
            "\u001b[2K   \u001b[90m━━━━━━━━━━━━━━━━━━━━━━━━━━━━━━━━━━━━━━━━\u001b[0m \u001b[32m1.1/1.1 MB\u001b[0m \u001b[31m18.9 MB/s\u001b[0m eta \u001b[36m0:00:00\u001b[0m\n",
            "\u001b[?25hDownloading ultralytics_thop-2.0.17-py3-none-any.whl (28 kB)\n",
            "Installing collected packages: ultralytics-thop, ultralytics\n",
            "Successfully installed ultralytics-8.3.207 ultralytics-thop-2.0.17\n"
          ]
        }
      ]
    },
    {
      "cell_type": "code",
      "source": [
        "# Set the path to your uploaded video file\n",
        "video_path = \"input_video.mp4\"\n",
        "\n",
        "import os\n",
        "\n",
        "# Check if video file exists\n",
        "if not os.path.exists(video_path):\n",
        "    raise FileNotFoundError(\"❌ input_video.mp4 not found. Please upload it via the Files panel on the left.\")\n",
        "else:\n",
        "    print(f\"✅ Found video file: {video_path}\")\n"
      ],
      "metadata": {
        "id": "dSlm5IHr1IfG",
        "colab": {
          "base_uri": "https://localhost:8080/"
        },
        "outputId": "580a7b2a-d702-4d40-9611-3d2f7d869c66"
      },
      "execution_count": null,
      "outputs": [
        {
          "output_type": "stream",
          "name": "stdout",
          "text": [
            "✅ Found video file: input_video.mp4\n"
          ]
        }
      ]
    },
    {
      "cell_type": "code",
      "source": [
        "import cv2\n",
        "\n",
        "# Opens the video file\n",
        "cap = cv2.VideoCapture(video_path)\n",
        "frame_rate = 2  # 2 frames per second\n",
        "prev = 0\n",
        "frame_number = 0\n",
        "\n",
        "if not cap.isOpened():\n",
        "    raise Exception(\"❌ Error: Could not open video.\")\n",
        "\n",
        "# Extract frames\n",
        "while True:\n",
        "    ret, frame = cap.read()\n",
        "    if not ret:\n",
        "        break\n",
        "\n",
        "    time_elapsed = cap.get(cv2.CAP_PROP_POS_MSEC) / 1000  # current time in seconds\n",
        "\n",
        "    if time_elapsed - prev >= 1 / frame_rate:\n",
        "        prev = time_elapsed\n",
        "        frame_number += 1\n",
        "        frame_filename = f\"frame_{frame_number}.jpg\"\n",
        "        cv2.imwrite(frame_filename, frame)\n",
        "        print(f\"✅ Saved frame {frame_number} at {time_elapsed:.2f}s: {frame_filename}\")\n",
        "\n",
        "cap.release()\n",
        "print(f\"📦 Extracted {frame_number} frames.\")\n"
      ],
      "metadata": {
        "id": "5BRh6Nfo1IYj",
        "colab": {
          "base_uri": "https://localhost:8080/"
        },
        "outputId": "b5252fec-1cc7-4306-ca51-36f67a48b152"
      },
      "execution_count": null,
      "outputs": [
        {
          "output_type": "stream",
          "name": "stdout",
          "text": [
            "✅ Saved frame 1 at 0.50s: frame_1.jpg\n",
            "✅ Saved frame 2 at 1.00s: frame_2.jpg\n",
            "✅ Saved frame 3 at 1.50s: frame_3.jpg\n",
            "✅ Saved frame 4 at 2.00s: frame_4.jpg\n",
            "✅ Saved frame 5 at 2.50s: frame_5.jpg\n",
            "✅ Saved frame 6 at 3.00s: frame_6.jpg\n",
            "✅ Saved frame 7 at 3.50s: frame_7.jpg\n",
            "✅ Saved frame 8 at 4.00s: frame_8.jpg\n",
            "✅ Saved frame 9 at 4.50s: frame_9.jpg\n",
            "✅ Saved frame 10 at 5.00s: frame_10.jpg\n",
            "✅ Saved frame 11 at 5.50s: frame_11.jpg\n",
            "✅ Saved frame 12 at 6.00s: frame_12.jpg\n",
            "✅ Saved frame 13 at 6.50s: frame_13.jpg\n",
            "✅ Saved frame 14 at 7.00s: frame_14.jpg\n",
            "✅ Saved frame 15 at 7.50s: frame_15.jpg\n",
            "✅ Saved frame 16 at 8.00s: frame_16.jpg\n",
            "✅ Saved frame 17 at 8.50s: frame_17.jpg\n",
            "✅ Saved frame 18 at 9.00s: frame_18.jpg\n",
            "✅ Saved frame 19 at 9.50s: frame_19.jpg\n",
            "✅ Saved frame 20 at 10.00s: frame_20.jpg\n",
            "✅ Saved frame 21 at 10.50s: frame_21.jpg\n",
            "✅ Saved frame 22 at 11.00s: frame_22.jpg\n",
            "✅ Saved frame 23 at 11.50s: frame_23.jpg\n",
            "✅ Saved frame 24 at 12.00s: frame_24.jpg\n",
            "✅ Saved frame 25 at 12.50s: frame_25.jpg\n",
            "✅ Saved frame 26 at 13.00s: frame_26.jpg\n",
            "✅ Saved frame 27 at 13.50s: frame_27.jpg\n",
            "✅ Saved frame 28 at 14.00s: frame_28.jpg\n",
            "✅ Saved frame 29 at 14.50s: frame_29.jpg\n",
            "✅ Saved frame 30 at 15.00s: frame_30.jpg\n",
            "✅ Saved frame 31 at 15.50s: frame_31.jpg\n",
            "✅ Saved frame 32 at 16.00s: frame_32.jpg\n",
            "✅ Saved frame 33 at 16.50s: frame_33.jpg\n",
            "✅ Saved frame 34 at 17.00s: frame_34.jpg\n",
            "✅ Saved frame 35 at 17.50s: frame_35.jpg\n",
            "✅ Saved frame 36 at 18.00s: frame_36.jpg\n",
            "✅ Saved frame 37 at 18.50s: frame_37.jpg\n",
            "✅ Saved frame 38 at 19.00s: frame_38.jpg\n",
            "✅ Saved frame 39 at 19.50s: frame_39.jpg\n",
            "✅ Saved frame 40 at 20.00s: frame_40.jpg\n",
            "✅ Saved frame 41 at 20.50s: frame_41.jpg\n",
            "✅ Saved frame 42 at 21.00s: frame_42.jpg\n",
            "✅ Saved frame 43 at 21.50s: frame_43.jpg\n",
            "✅ Saved frame 44 at 22.00s: frame_44.jpg\n",
            "✅ Saved frame 45 at 22.50s: frame_45.jpg\n",
            "✅ Saved frame 46 at 23.00s: frame_46.jpg\n",
            "✅ Saved frame 47 at 23.50s: frame_47.jpg\n",
            "✅ Saved frame 48 at 24.00s: frame_48.jpg\n",
            "✅ Saved frame 49 at 24.50s: frame_49.jpg\n",
            "✅ Saved frame 50 at 25.00s: frame_50.jpg\n",
            "✅ Saved frame 51 at 25.50s: frame_51.jpg\n",
            "✅ Saved frame 52 at 26.00s: frame_52.jpg\n",
            "✅ Saved frame 53 at 26.50s: frame_53.jpg\n",
            "✅ Saved frame 54 at 27.00s: frame_54.jpg\n",
            "✅ Saved frame 55 at 27.50s: frame_55.jpg\n",
            "✅ Saved frame 56 at 28.00s: frame_56.jpg\n",
            "✅ Saved frame 57 at 28.50s: frame_57.jpg\n",
            "✅ Saved frame 58 at 29.00s: frame_58.jpg\n",
            "✅ Saved frame 59 at 29.50s: frame_59.jpg\n",
            "✅ Saved frame 60 at 30.00s: frame_60.jpg\n",
            "✅ Saved frame 61 at 30.50s: frame_61.jpg\n",
            "✅ Saved frame 62 at 31.00s: frame_62.jpg\n",
            "✅ Saved frame 63 at 31.50s: frame_63.jpg\n",
            "✅ Saved frame 64 at 32.00s: frame_64.jpg\n",
            "✅ Saved frame 65 at 32.50s: frame_65.jpg\n",
            "📦 Extracted 65 frames.\n"
          ]
        }
      ]
    },
    {
      "cell_type": "code",
      "source": [
        "from ultralytics import YOLO\n",
        "\n",
        "# Loading the YOLOv8 model (nano version for speed)\n",
        "model = YOLO(\"yolov8n.pt\")\n",
        "print(\"✅ YOLOv8 model loaded.\")\n"
      ],
      "metadata": {
        "id": "HDzM5qMw1IR0",
        "colab": {
          "base_uri": "https://localhost:8080/"
        },
        "outputId": "e58a6292-2149-43f5-fcd5-d04e64c54048"
      },
      "execution_count": null,
      "outputs": [
        {
          "output_type": "stream",
          "name": "stdout",
          "text": [
            "Creating new Ultralytics Settings v0.0.6 file ✅ \n",
            "View Ultralytics Settings with 'yolo settings' or at '/root/.config/Ultralytics/settings.json'\n",
            "Update Settings with 'yolo settings key=value', i.e. 'yolo settings runs_dir=path/to/dir'. For help see https://docs.ultralytics.com/quickstart/#ultralytics-settings.\n",
            "\u001b[KDownloading https://github.com/ultralytics/assets/releases/download/v8.3.0/yolov8n.pt to 'yolov8n.pt': 100% ━━━━━━━━━━━━ 6.2MB 71.0MB/s 0.1s\n",
            "✅ YOLOv8 model loaded.\n"
          ]
        }
      ]
    },
    {
      "cell_type": "code",
      "source": [
        "import cv2\n",
        "import os\n",
        "\n",
        "# Get list of saved frame images\n",
        "frame_files = sorted([f for f in os.listdir() if f.startswith(\"frame_\") and f.endswith(\".jpg\")])\n",
        "\n",
        "# Store all detected labels\n",
        "all_detections = []\n",
        "\n",
        "for frame_file in frame_files:\n",
        "    frame = cv2.imread(frame_file)\n",
        "    results = model.predict(frame, verbose=False)\n",
        "\n",
        "    detections = results[0].names\n",
        "    classes = results[0].boxes.cls.cpu().numpy()\n",
        "\n",
        "    labels = [detections[int(cls_id)] for cls_id in classes]\n",
        "    print(f\"{frame_file}: {labels}\")\n",
        "    all_detections.extend(labels)\n"
      ],
      "metadata": {
        "id": "9XxGw-8d1IKN",
        "colab": {
          "base_uri": "https://localhost:8080/"
        },
        "outputId": "2d3d2dfa-9cfd-404c-d623-1dfa0a3bdaab"
      },
      "execution_count": null,
      "outputs": [
        {
          "output_type": "stream",
          "name": "stdout",
          "text": [
            "frame_1.jpg: ['person', 'fork', 'person']\n",
            "frame_10.jpg: ['person']\n",
            "frame_11.jpg: ['person']\n",
            "frame_12.jpg: ['person']\n",
            "frame_13.jpg: ['person', 'person']\n",
            "frame_14.jpg: ['person', 'person']\n",
            "frame_15.jpg: ['person', 'fork']\n",
            "frame_16.jpg: ['person']\n",
            "frame_17.jpg: ['person', 'person']\n",
            "frame_18.jpg: ['refrigerator', 'bottle', 'person']\n",
            "frame_19.jpg: ['person', 'person']\n",
            "frame_2.jpg: ['bottle']\n",
            "frame_20.jpg: ['person']\n",
            "frame_21.jpg: ['person', 'toothbrush']\n",
            "frame_22.jpg: ['person']\n",
            "frame_23.jpg: ['person']\n",
            "frame_24.jpg: ['person']\n",
            "frame_25.jpg: []\n",
            "frame_26.jpg: []\n",
            "frame_27.jpg: ['person']\n",
            "frame_28.jpg: ['airplane']\n",
            "frame_29.jpg: ['person']\n",
            "frame_3.jpg: []\n",
            "frame_30.jpg: ['toothbrush', 'toothbrush']\n",
            "frame_31.jpg: ['toothbrush', 'person', 'dining table', 'person']\n",
            "frame_32.jpg: ['toothbrush', 'dining table']\n",
            "frame_33.jpg: ['person', 'scissors']\n",
            "frame_34.jpg: ['person']\n",
            "frame_35.jpg: ['person']\n",
            "frame_36.jpg: ['person']\n",
            "frame_37.jpg: ['person', 'person', 'person']\n",
            "frame_38.jpg: ['cell phone']\n",
            "frame_39.jpg: ['person', 'cell phone']\n",
            "frame_4.jpg: ['dining table', 'person']\n",
            "frame_40.jpg: ['person']\n",
            "frame_41.jpg: ['person']\n",
            "frame_42.jpg: ['person', 'baseball bat']\n",
            "frame_43.jpg: ['person', 'toothbrush', 'baseball bat']\n",
            "frame_44.jpg: []\n",
            "frame_45.jpg: ['airplane', 'toothbrush']\n",
            "frame_46.jpg: ['toothbrush']\n",
            "frame_47.jpg: ['person']\n",
            "frame_48.jpg: ['person', 'toothbrush', 'toothbrush']\n",
            "frame_49.jpg: ['person']\n",
            "frame_5.jpg: ['person', 'dining table']\n",
            "frame_50.jpg: ['person']\n",
            "frame_51.jpg: ['person']\n",
            "frame_52.jpg: ['person']\n",
            "frame_53.jpg: ['person']\n",
            "frame_54.jpg: []\n",
            "frame_55.jpg: []\n",
            "frame_56.jpg: []\n",
            "frame_57.jpg: ['person', 'dining table']\n",
            "frame_58.jpg: ['person', 'cell phone', 'dining table']\n",
            "frame_59.jpg: ['remote', 'person', 'cell phone']\n",
            "frame_6.jpg: ['donut']\n",
            "frame_60.jpg: ['person', 'remote', 'person', 'toothbrush']\n",
            "frame_61.jpg: ['person']\n",
            "frame_62.jpg: ['person', 'person', 'person', 'toothbrush']\n",
            "frame_63.jpg: ['person', 'person']\n",
            "frame_64.jpg: ['person', 'cell phone']\n",
            "frame_65.jpg: ['person', 'cell phone']\n",
            "frame_7.jpg: ['person', 'cell phone', 'person']\n",
            "frame_8.jpg: ['toothbrush', 'person', 'person']\n",
            "frame_9.jpg: ['person', 'person', 'person']\n"
          ]
        }
      ]
    },
    {
      "cell_type": "code",
      "source": [
        "# Get unique detected objects\n",
        "unique_objects = sorted(set(all_detections))\n",
        "\n",
        "# Show list\n",
        "print(\"\\n🎯 Unique objects detected in video:\")\n",
        "for obj in unique_objects:\n",
        "    print(f\" - {obj}\")\n",
        "\n",
        "# Save to file\n",
        "with open(\"detected_objects.txt\", \"w\") as f:\n",
        "    for obj in unique_objects:\n",
        "        f.write(f\"{obj}\\n\")\n",
        "print(\"✅ Saved detected objects to detected_objects.txt\")\n"
      ],
      "metadata": {
        "id": "OkdjbvwJ1IA8",
        "colab": {
          "base_uri": "https://localhost:8080/"
        },
        "outputId": "88942f36-291b-4cc7-f1e4-27ec2fcbcc9a"
      },
      "execution_count": null,
      "outputs": [
        {
          "output_type": "stream",
          "name": "stdout",
          "text": [
            "\n",
            "🎯 Unique objects detected in video:\n",
            " - airplane\n",
            " - baseball bat\n",
            " - bottle\n",
            " - cell phone\n",
            " - dining table\n",
            " - donut\n",
            " - fork\n",
            " - person\n",
            " - refrigerator\n",
            " - remote\n",
            " - scissors\n",
            " - toothbrush\n",
            "✅ Saved detected objects to detected_objects.txt\n"
          ]
        }
      ]
    },
    {
      "cell_type": "code",
      "source": [
        "# Load detected object names from file\n",
        "try:\n",
        "    with open(\"detected_objects.txt\", \"r\") as f:\n",
        "        detected_objects = [line.strip() for line in f.readlines()]\n",
        "except FileNotFoundError:\n",
        "    print(\"❌ 'detected_objects.txt' not found.\")\n",
        "    detected_objects = []\n",
        "\n",
        "# Objects to ignore (case-insensitive)\n",
        "ignore_objects = {\"person\"}\n",
        "\n",
        "# Filter out ignored objects\n",
        "filtered_objects = [obj for obj in detected_objects if obj.lower() not in ignore_objects]\n",
        "\n",
        "# Search URL templates for each e-commerce site\n",
        "ecommerce_links = {\n",
        "    \"Amazon\":       \"https://www.amazon.com/s?k={query}\",\n",
        "    \"Flipkart\":     \"https://www.flipkart.com/search?q={query}\",\n",
        "    \"eBay\":         \"https://www.ebay.com/sch/i.html?_nkw={query}\",\n",
        "    \"Walmart\":      \"https://www.walmart.com/search?q={query}\"\n",
        "}\n",
        "\n",
        "# Generate and print search links\n",
        "if filtered_objects:\n",
        "    print(\"\\n🛒 Suggested Buy Links:\\n\")\n",
        "    for obj in filtered_objects:\n",
        "        print(f\"\\n🔎 {obj.title()}\")\n",
        "        query = obj.replace(\" \", \"+\")\n",
        "        for site, url_template in ecommerce_links.items():\n",
        "            search_url = url_template.format(query=query)\n",
        "            print(f\" - {site}: {search_url}\")\n",
        "else:\n",
        "    print(\"No valid objects found to generate links.\")\n"
      ],
      "metadata": {
        "colab": {
          "base_uri": "https://localhost:8080/"
        },
        "id": "4s6cfdfT15I8",
        "outputId": "cd60f8d7-0b6f-4973-c2c6-338bfcfe0aa0"
      },
      "execution_count": null,
      "outputs": [
        {
          "output_type": "stream",
          "name": "stdout",
          "text": [
            "\n",
            "🛒 Suggested Buy Links:\n",
            "\n",
            "\n",
            "🔎 Airplane\n",
            " - Amazon: https://www.amazon.com/s?k=airplane\n",
            " - Flipkart: https://www.flipkart.com/search?q=airplane\n",
            " - eBay: https://www.ebay.com/sch/i.html?_nkw=airplane\n",
            " - Walmart: https://www.walmart.com/search?q=airplane\n",
            "\n",
            "🔎 Baseball Bat\n",
            " - Amazon: https://www.amazon.com/s?k=baseball+bat\n",
            " - Flipkart: https://www.flipkart.com/search?q=baseball+bat\n",
            " - eBay: https://www.ebay.com/sch/i.html?_nkw=baseball+bat\n",
            " - Walmart: https://www.walmart.com/search?q=baseball+bat\n",
            "\n",
            "🔎 Bottle\n",
            " - Amazon: https://www.amazon.com/s?k=bottle\n",
            " - Flipkart: https://www.flipkart.com/search?q=bottle\n",
            " - eBay: https://www.ebay.com/sch/i.html?_nkw=bottle\n",
            " - Walmart: https://www.walmart.com/search?q=bottle\n",
            "\n",
            "🔎 Cell Phone\n",
            " - Amazon: https://www.amazon.com/s?k=cell+phone\n",
            " - Flipkart: https://www.flipkart.com/search?q=cell+phone\n",
            " - eBay: https://www.ebay.com/sch/i.html?_nkw=cell+phone\n",
            " - Walmart: https://www.walmart.com/search?q=cell+phone\n",
            "\n",
            "🔎 Dining Table\n",
            " - Amazon: https://www.amazon.com/s?k=dining+table\n",
            " - Flipkart: https://www.flipkart.com/search?q=dining+table\n",
            " - eBay: https://www.ebay.com/sch/i.html?_nkw=dining+table\n",
            " - Walmart: https://www.walmart.com/search?q=dining+table\n",
            "\n",
            "🔎 Donut\n",
            " - Amazon: https://www.amazon.com/s?k=donut\n",
            " - Flipkart: https://www.flipkart.com/search?q=donut\n",
            " - eBay: https://www.ebay.com/sch/i.html?_nkw=donut\n",
            " - Walmart: https://www.walmart.com/search?q=donut\n",
            "\n",
            "🔎 Fork\n",
            " - Amazon: https://www.amazon.com/s?k=fork\n",
            " - Flipkart: https://www.flipkart.com/search?q=fork\n",
            " - eBay: https://www.ebay.com/sch/i.html?_nkw=fork\n",
            " - Walmart: https://www.walmart.com/search?q=fork\n",
            "\n",
            "🔎 Refrigerator\n",
            " - Amazon: https://www.amazon.com/s?k=refrigerator\n",
            " - Flipkart: https://www.flipkart.com/search?q=refrigerator\n",
            " - eBay: https://www.ebay.com/sch/i.html?_nkw=refrigerator\n",
            " - Walmart: https://www.walmart.com/search?q=refrigerator\n",
            "\n",
            "🔎 Remote\n",
            " - Amazon: https://www.amazon.com/s?k=remote\n",
            " - Flipkart: https://www.flipkart.com/search?q=remote\n",
            " - eBay: https://www.ebay.com/sch/i.html?_nkw=remote\n",
            " - Walmart: https://www.walmart.com/search?q=remote\n",
            "\n",
            "🔎 Scissors\n",
            " - Amazon: https://www.amazon.com/s?k=scissors\n",
            " - Flipkart: https://www.flipkart.com/search?q=scissors\n",
            " - eBay: https://www.ebay.com/sch/i.html?_nkw=scissors\n",
            " - Walmart: https://www.walmart.com/search?q=scissors\n",
            "\n",
            "🔎 Toothbrush\n",
            " - Amazon: https://www.amazon.com/s?k=toothbrush\n",
            " - Flipkart: https://www.flipkart.com/search?q=toothbrush\n",
            " - eBay: https://www.ebay.com/sch/i.html?_nkw=toothbrush\n",
            " - Walmart: https://www.walmart.com/search?q=toothbrush\n"
          ]
        }
      ]
    },
    {
      "cell_type": "code",
      "source": [
        "# Load detected object names from file\n",
        "try:\n",
        "    with open(\"detected_objects.txt\", \"r\") as f:\n",
        "        detected_objects = [line.strip() for line in f.readlines()]\n",
        "except FileNotFoundError:\n",
        "    print(\"❌ 'detected_objects.txt' not found.\")\n",
        "    detected_objects = []\n",
        "\n",
        "# Define objects to ignore\n",
        "ignore_objects = {\"person\"}  # Add more if needed\n",
        "\n",
        "# Filter out ignored objects\n",
        "filtered_objects = [obj for obj in detected_objects if obj.lower() not in ignore_objects]\n",
        "\n",
        "# Generate and print search links\n",
        "if filtered_objects:\n",
        "    print(\"\\n🛒 Suggested Buy Links:\\n\")\n",
        "    for obj in filtered_objects:\n",
        "        query = f\"buy {obj} site:amazon.in\"\n",
        "        search_url = f\"https://www.google.com/search?q={query.replace(' ', '+')}\"\n",
        "        print(f\"{obj.title()}: {search_url}\")\n",
        "else:\n",
        "    print(\"No valid objects found to generate links.\")\n"
      ],
      "metadata": {
        "id": "GvrkaQ3m1H2q",
        "colab": {
          "base_uri": "https://localhost:8080/"
        },
        "outputId": "78a0a21d-9b92-496c-ff93-40300d1d4af8"
      },
      "execution_count": null,
      "outputs": [
        {
          "output_type": "stream",
          "name": "stdout",
          "text": [
            "\n",
            "🛒 Suggested Buy Links:\n",
            "\n",
            "Airplane: https://www.google.com/search?q=buy+airplane+site:amazon.in\n",
            "Baseball Bat: https://www.google.com/search?q=buy+baseball+bat+site:amazon.in\n",
            "Bottle: https://www.google.com/search?q=buy+bottle+site:amazon.in\n",
            "Cell Phone: https://www.google.com/search?q=buy+cell+phone+site:amazon.in\n",
            "Dining Table: https://www.google.com/search?q=buy+dining+table+site:amazon.in\n",
            "Donut: https://www.google.com/search?q=buy+donut+site:amazon.in\n",
            "Fork: https://www.google.com/search?q=buy+fork+site:amazon.in\n",
            "Refrigerator: https://www.google.com/search?q=buy+refrigerator+site:amazon.in\n",
            "Remote: https://www.google.com/search?q=buy+remote+site:amazon.in\n",
            "Scissors: https://www.google.com/search?q=buy+scissors+site:amazon.in\n",
            "Toothbrush: https://www.google.com/search?q=buy+toothbrush+site:amazon.in\n"
          ]
        }
      ]
    },
    {
      "cell_type": "code",
      "source": [
        "# Load detected object names from file\n",
        "try:\n",
        "    with open(\"detected_objects.txt\", \"r\") as f:\n",
        "        detected_objects = [line.strip() for line in f.readlines()]\n",
        "except FileNotFoundError:\n",
        "    print(\"❌ 'detected_objects.txt' not found.\")\n",
        "    detected_objects = []\n",
        "\n",
        "# Generate Amazon search URLs\n",
        "if detected_objects:\n",
        "    print(\"\\n🛒 Suggested Buy Links (Amazon):\\n\")\n",
        "    base_url = \"https://www.amazon.com/s?k=\"\n",
        "    for obj in detected_objects:\n",
        "        query = obj.replace(\" \", \"+\")\n",
        "        search_url = f\"{base_url}{query}\"\n",
        "        print(f\"{obj.title()}: {search_url}\")\n",
        "else:\n",
        "    print(\"No objects found to generate links.\")\n"
      ],
      "metadata": {
        "id": "CekX14az1Hip",
        "colab": {
          "base_uri": "https://localhost:8080/"
        },
        "outputId": "9d562b36-6048-4db6-af41-0eac264b4381"
      },
      "execution_count": null,
      "outputs": [
        {
          "output_type": "stream",
          "name": "stdout",
          "text": [
            "\n",
            "🛒 Suggested Buy Links (Amazon):\n",
            "\n",
            "Airplane: https://www.amazon.com/s?k=airplane\n",
            "Baseball Bat: https://www.amazon.com/s?k=baseball+bat\n",
            "Bottle: https://www.amazon.com/s?k=bottle\n",
            "Cell Phone: https://www.amazon.com/s?k=cell+phone\n",
            "Dining Table: https://www.amazon.com/s?k=dining+table\n",
            "Donut: https://www.amazon.com/s?k=donut\n",
            "Fork: https://www.amazon.com/s?k=fork\n",
            "Person: https://www.amazon.com/s?k=person\n",
            "Refrigerator: https://www.amazon.com/s?k=refrigerator\n",
            "Remote: https://www.amazon.com/s?k=remote\n",
            "Scissors: https://www.amazon.com/s?k=scissors\n",
            "Toothbrush: https://www.amazon.com/s?k=toothbrush\n"
          ]
        }
      ]
    },
    {
      "cell_type": "code",
      "source": [],
      "metadata": {
        "id": "UtIKIF-L2NBv"
      },
      "execution_count": null,
      "outputs": []
    }
  ]
}